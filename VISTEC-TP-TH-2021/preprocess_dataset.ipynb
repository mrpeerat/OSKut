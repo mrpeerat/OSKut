{
 "cells": [
  {
   "cell_type": "code",
   "execution_count": 7,
   "metadata": {},
   "outputs": [],
   "source": [
    "import pandas as pd\n",
    "from sklearn.model_selection import train_test_split\n",
    "import re"
   ]
  },
  {
   "cell_type": "code",
   "execution_count": 3,
   "metadata": {
    "scrolled": true
   },
   "outputs": [],
   "source": [
    "df = pd.read_csv('VISTEC-TP-TH-2021.csv')\n",
    "context_preprocessed = df['submissionText'].to_list()\n",
    "context_raw = df['questionText'].to_list()"
   ]
  },
  {
   "cell_type": "code",
   "execution_count": 63,
   "metadata": {},
   "outputs": [
    {
     "data": {
      "text/plain": [
       "'เปิด|เส้นทาง|จักรยาน| |<ne>นักสำรวจธรรมชาติ</ne>| |<ne>พกฉ.</ne>| |<ne>พิพิธภัณฑ์เกษตรฯ</ne>| |เปิด|ปฐมฤกษ์| |๒๙| |มิถุนายน| |๒๕๖๒| |ปั่น| |ชม| |เรียนรู้| |<ne>เกษตรพอเพียง</ne>| |<ne>เกษตรทฤษฎีใหม่ประยุกต์</ne>| |๑| |ไร่| |๑| |แสน| |พิพิธภัณฑ์|กลางแจ้ง| |<ne>พิพิธภัณฑ์มีชีวิต</ne>| |พร้อม|เข้าชม|<ne>พิพิธภัณฑ์ในหลวงรักเรา</ne>| |ติดตาม|กิจกรรม|ดู| |#wisdomkingfan| |at| |<ne>พิพิธภัณฑ์การเกษตรเฉลิมพระเกียรติ พระบาทสมเด็จพระเจ้าอยู่หัว (The Golden Jubilee Museum of Agriculture)</ne>'"
      ]
     },
     "execution_count": 63,
     "metadata": {},
     "output_type": "execute_result"
    }
   ],
   "source": [
    "context_preprocessed[1]"
   ]
  },
  {
   "cell_type": "code",
   "execution_count": 49,
   "metadata": {},
   "outputs": [],
   "source": [
    "hash_tag = []\n",
    "error = 0\n",
    "context_choose = []\n",
    "for idx,c in enumerate(context_raw):\n",
    "    y_temp = []\n",
    "    while '#' in c:\n",
    "        t = re.search(r\"[\\|]*#[^|]+\", c)\n",
    "        try:\n",
    "            hash_t = t[0].split(' ')\n",
    "            y_temp.append(hash_t[0])\n",
    "            if len(hash_t) > 1:\n",
    "                c = ' '.join(hash_t[1:])\n",
    "            else:\n",
    "                break\n",
    "        except:\n",
    "            error = 1\n",
    "            break\n",
    "    if error == 0 and y_temp != []:\n",
    "        context_choose.append(context_raw[idx])\n",
    "        hash_tag.append(y_temp)\n",
    "    error = 0\n",
    "    "
   ]
  },
  {
   "cell_type": "code",
   "execution_count": 51,
   "metadata": {},
   "outputs": [
    {
     "data": {
      "text/plain": [
       "'เปิดเส้นทางจักรยาน นักสำรวจธรรมชาติ พกฉ. พิพิธภัณฑ์เกษตรฯ เปิดปฐมฤกษ์ ๒๙ มิถุนายน ๒๕๖๒ ปั่น ชม เรียนรู้ เกษตรพอเพียง เกษตรทฤษฎีใหม่ประยุกต์ ๑ ไร่ ๑ แสน พิพิธภัณฑ์กลางแจ้ง พิพิธภัณฑ์มีชีวิต พร้อมเข้าชมพิพิธภัณฑ์ในหลวงรักเรา ติดตามกิจกรรมดู #wisdomkingfan at พิพิธภัณฑ์การเกษตรเฉลิมพระเกียรติ พระบาทสมเด็จพระเจ้าอยู่หัว (The Golden Jubilee Museum of Agriculture)'"
      ]
     },
     "execution_count": 51,
     "metadata": {},
     "output_type": "execute_result"
    }
   ],
   "source": [
    "context_choose[0]"
   ]
  },
  {
   "cell_type": "code",
   "execution_count": 27,
   "metadata": {},
   "outputs": [
    {
     "data": {
      "text/plain": [
       "21530"
      ]
     },
     "execution_count": 27,
     "metadata": {},
     "output_type": "execute_result"
    }
   ],
   "source": [
    "len(list(set(hash_tag[:])))"
   ]
  },
  {
   "cell_type": "code",
   "execution_count": 26,
   "metadata": {},
   "outputs": [],
   "source": [
    "X_train, X_test = train_test_split(context_preprocessed, test_size=0.2, random_state=42)\n",
    "preprocessed = open('train/VISTEC-TP-TH-2021_train_proprocessed.txt','w+')\n",
    "for i in X_train[:]:\n",
    "    preprocessed.write(i+'\\n')\n",
    "preprocessed.close()\n",
    "preprocessed = open('test/VISTEC-TP-TH-2021_test_proprocessed.txt','w+')\n",
    "for i in X_test[:]:\n",
    "    preprocessed.write(i+'\\n')\n",
    "preprocessed.close()"
   ]
  },
  {
   "cell_type": "code",
   "execution_count": 27,
   "metadata": {},
   "outputs": [],
   "source": [
    "X_train, X_test = train_test_split(context_raw, test_size=0.2, random_state=42)\n",
    "preprocessed = open('train/VISTEC-TP-TH-2021_train_raw.txt','w+')\n",
    "for i in X_train[:]:\n",
    "    preprocessed.write(i+'\\n')\n",
    "preprocessed.close()\n",
    "preprocessed = open('test/VISTEC-TP-TH-2021_test_raw.txt','w+')\n",
    "for i in X_test[:]:\n",
    "    preprocessed.write(i+'\\n')\n",
    "preprocessed.close()"
   ]
  }
 ],
 "metadata": {
  "kernelspec": {
   "display_name": "Python 3",
   "language": "python",
   "name": "python3"
  },
  "language_info": {
   "codemirror_mode": {
    "name": "ipython",
    "version": 3
   },
   "file_extension": ".py",
   "mimetype": "text/x-python",
   "name": "python",
   "nbconvert_exporter": "python",
   "pygments_lexer": "ipython3",
   "version": "3.6.8"
  }
 },
 "nbformat": 4,
 "nbformat_minor": 2
}
