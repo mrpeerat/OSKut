{
 "cells": [
  {
   "cell_type": "code",
   "execution_count": 25,
   "metadata": {},
   "outputs": [],
   "source": [
    "import pandas as pd\n",
    "from sklearn.model_selection import train_test_split"
   ]
  },
  {
   "cell_type": "code",
   "execution_count": 19,
   "metadata": {
    "scrolled": true
   },
   "outputs": [],
   "source": [
    "df = pd.read_csv('scads21_datasets.csv')\n",
    "context_preprocessed = df['submissionText'].to_list()\n",
    "context_raw = df['questionText'].to_list()"
   ]
  },
  {
   "cell_type": "code",
   "execution_count": 26,
   "metadata": {},
   "outputs": [],
   "source": [
    "X_train, X_test = train_test_split(context_preprocessed, test_size=0.2, random_state=42)\n",
    "preprocessed = open('train/scads21_train_proprocessed.txt','w+')\n",
    "for i in X_train[:]:\n",
    "    preprocessed.write(i+'\\n')\n",
    "preprocessed.close()\n",
    "preprocessed = open('test/scads21_test_proprocessed.txt','w+')\n",
    "for i in X_test[:]:\n",
    "    preprocessed.write(i+'\\n')\n",
    "preprocessed.close()"
   ]
  },
  {
   "cell_type": "code",
   "execution_count": 27,
   "metadata": {},
   "outputs": [],
   "source": [
    "X_train, X_test = train_test_split(context_raw, test_size=0.2, random_state=42)\n",
    "preprocessed = open('train/scads21_train_raw.txt','w+')\n",
    "for i in X_train[:]:\n",
    "    preprocessed.write(i+'\\n')\n",
    "preprocessed.close()\n",
    "preprocessed = open('test/scads21_test_raw.txt','w+')\n",
    "for i in X_test[:]:\n",
    "    preprocessed.write(i+'\\n')\n",
    "preprocessed.close()"
   ]
  }
 ],
 "metadata": {
  "kernelspec": {
   "display_name": "Python 3",
   "language": "python",
   "name": "python3"
  },
  "language_info": {
   "codemirror_mode": {
    "name": "ipython",
    "version": 3
   },
   "file_extension": ".py",
   "mimetype": "text/x-python",
   "name": "python",
   "nbconvert_exporter": "python",
   "pygments_lexer": "ipython3",
   "version": "3.6.8"
  }
 },
 "nbformat": 4,
 "nbformat_minor": 2
}
